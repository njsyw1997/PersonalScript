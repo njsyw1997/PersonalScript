{
 "cells": [
  {
   "cell_type": "code",
   "execution_count": 36,
   "metadata": {},
   "outputs": [],
   "source": [
    "import scipy\n",
    "import numpy\n",
    "import scipy.io\n",
    "import matplotlib.pyplot as plt\n",
    "import pyamg\n",
    "import numpy as np\n",
    "from scipy.sparse.linalg import cg"
   ]
  },
  {
   "cell_type": "code",
   "execution_count": 37,
   "metadata": {},
   "outputs": [],
   "source": [
    "A_hex=scipy.io.mmread(\"/home/yiwei/results_laplace/laplace3d_struct_hex/AMGCL_0.00/cube_struct_hex_5/laplace_hypre/P1/ref0/block1/Thread32/0/output/stiffness.mat\")\n",
    "A_hex_dense=scipy.sparse.coo_matrix.toarray(A_hex)\n",
    "A_hex_dense=np.where(np.absolute(A_hex_dense)>1e-10,A_hex_dense,np.zeros_like(A_hex_dense))\n",
    "\n",
    "A_tet=scipy.io.mmread(\"/home/yiwei/results_laplace/laplace3d_struct_tet/AMGCL_0.00/cube_struct_5/laplace_hypre/P1/ref0/block1/Thread32/0/output/stiffness.mat\")\n",
    "A_tet_dense=scipy.sparse.coo_matrix.toarray(A_tet)\n",
    "A_tet_dense=np.where(np.absolute(A_tet_dense)>1e-10,A_tet_dense,np.zeros_like(A_tet_dense))"
   ]
  },
  {
   "cell_type": "code",
   "execution_count": 38,
   "metadata": {},
   "outputs": [
    {
     "name": "stdout",
     "output_type": "stream",
     "text": [
      "21\n",
      "[-0.01666667 -0.03333333 -0.01666667 -0.03333333 -0.03333333 -0.01666667\n",
      " -0.03333333 -0.01666667 -0.03333333 -0.03333333  0.53333333 -0.03333333\n",
      " -0.03333333 -0.01666667 -0.03333333 -0.01666667 -0.03333333 -0.03333333\n",
      " -0.01666667 -0.03333333 -0.01666667]\n"
     ]
    }
   ],
   "source": [
    "diag=np.diag(A_hex_dense)\n",
    "nonzero_count=np.count_nonzero(A_hex_dense,axis=0)\n",
    "index=np.argmax(nonzero_count)\n",
    "max_nonzeros=np.amax(nonzero_count)\n",
    "print(max_nonzeros)\n",
    "print(A_hex_dense[index,:][A_hex_dense[index,:]!=0])"
   ]
  },
  {
   "cell_type": "code",
   "execution_count": 40,
   "metadata": {},
   "outputs": [
    {
     "name": "stdout",
     "output_type": "stream",
     "text": [
      "15\n",
      "[ 0.06666667 -0.06666667 -0.26666667  0.06666667 -0.06666667 -0.13333333\n",
      " -0.26666667  1.33333333 -0.26666667 -0.13333333 -0.06666667  0.06666667\n",
      " -0.26666667 -0.06666667  0.06666667]\n"
     ]
    }
   ],
   "source": [
    "diag=np.diag(A_tet_dense)\n",
    "nonzero_count=np.count_nonzero(A_tet_dense,axis=0)\n",
    "index=np.argmax(nonzero_count)\n",
    "max_nonzeros=np.amax(nonzero_count)\n",
    "print(max_nonzeros)\n",
    "print(A_tet_dense[index,:][A_tet_dense[index,:]!=0])"
   ]
  }
 ],
 "metadata": {
  "kernelspec": {
   "display_name": "Python 3.9.12 ('base': conda)",
   "language": "python",
   "name": "python3"
  },
  "language_info": {
   "codemirror_mode": {
    "name": "ipython",
    "version": 3
   },
   "file_extension": ".py",
   "mimetype": "text/x-python",
   "name": "python",
   "nbconvert_exporter": "python",
   "pygments_lexer": "ipython3",
   "version": "3.9.12"
  },
  "orig_nbformat": 4,
  "vscode": {
   "interpreter": {
    "hash": "0333f6a60717544378c06df82b1950ca14c34f4350a548a9d6a543c9e4b8ad02"
   }
  }
 },
 "nbformat": 4,
 "nbformat_minor": 2
}
