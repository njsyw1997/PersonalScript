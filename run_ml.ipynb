{
 "cells": [
  {
   "cell_type": "code",
   "execution_count": 1,
   "metadata": {},
   "outputs": [],
   "source": [
    "import scipy\n",
    "import numpy\n",
    "import scipy.io\n",
    "import matplotlib.pyplot as plt\n",
    "import glob\n",
    "import json\n",
    "import math\n",
    "import os\n",
    "import subprocess\n",
    "import tempfile\n",
    "import numpy as np\n",
    "import regex"
   ]
  },
  {
   "cell_type": "code",
   "execution_count": 2,
   "metadata": {},
   "outputs": [],
   "source": [
    "def run_ml(work_folder,block_size,str_con,aggr_type):\n",
    "    ml_exe=\"/home/yiwei/Trilinos/build/packages/ml/examples/BasicExamples/ML_read_MatrixMarket.exe\"\n",
    "    matrix=work_folder+\"/stiffness.mtx\"\n",
    "    rhs=work_folder+\"/rhs.mtx\"\n",
    "    solver=\"cg\"\n",
    "    output_folder=work_folder+\"/ml_result\"\n",
    "    logname='/log_ml_'+str(block_size)+'.txt'\n",
    "    if (not os.path.exists(output_folder)):\n",
    "        os.makedirs(output_folder)\n",
    "    logfile = open(output_folder+logname, \"w\")\n",
    "    os.chdir(output_folder)\n",
    "    args = [ml_exe,\n",
    "    \"--matrix=\"+matrix,\"--krylov=\"+solver,\"--npdes=\"+str(block_size),\"--rhs=\"+rhs,\"--strcon=\"+str(str_con),\"--aggr_type=\"+aggr_type]\n",
    "    subprocess.run(args,stdout=logfile,stderr=logfile) \n",
    "    logfile.close()\n",
    "    return\n"
   ]
  },
  {
   "cell_type": "code",
   "execution_count": 3,
   "metadata": {},
   "outputs": [],
   "source": [
    "def print_ml(path):\n",
    "    logfile=open(path,'r')\n",
    "    hierachy=[]\n",
    "    rows=[]\n",
    "    unknowns=[]\n",
    "    iterations=-1\n",
    "    for line in logfile.readlines():\n",
    "        m=regex.match(r\"Smoother \\(level \\d\\) : # global rows = \\d+\",line)\n",
    "        n=regex.search(r\"total iterations: \\d+\",line)\n",
    "        if m!=None:\n",
    "            tmp=regex.findall(r\"\\d+\",line)\n",
    "            hierachy.append(int(tmp[0]))\n",
    "            rows.append(int(tmp[1]))\n",
    "            unknowns.append(int(tmp[2]))\n",
    "        if n!=None:\n",
    "            tmp=regex.findall(r\"\\d+\",n.group(0))   \n",
    "            iterations=int(tmp[0])\n",
    "    for hie,unk,row in zip(hierachy,unknowns,rows):\n",
    "        print(\"Level \",hie,\" Global rows \",row,\" Unknowns \", unk)\n",
    "    print(\"Iterations\",iterations)\n",
    "        "
   ]
  },
  {
   "cell_type": "markdown",
   "metadata": {},
   "source": [
    "# Run ML"
   ]
  },
  {
   "cell_type": "code",
   "execution_count": 23,
   "metadata": {},
   "outputs": [],
   "source": [
    "work_folder=\"/home/yiwei/results_new/tmptest/AMGCL0.08/square_beam2d_1.0/bar_2d/P1/ref0/block1/Thread32/0/output\"\n",
    "ml_exe=\"/home/yiwei/Trilinos/build/packages/ml/examples/BasicExamples/ML_read_MatrixMarket.exe\"\n",
    "matrix=work_folder+\"/stiffness.mtx\"\n",
    "rhs=work_folder+\"/rhs.mtx\"\n",
    "block_size=2\n",
    "solver=\"cg\"\n",
    "output_folder=work_folder+\"/ml_result\"\n",
    "logname='/log_ml_'+str(block_size)+'.txt'\n",
    "if (not os.path.exists(output_folder)):\n",
    "    os.makedirs(output_folder)\n",
    "logfile = open(output_folder+logname, \"w\")\n",
    "os.chdir(output_folder)\n",
    "args = [ml_exe,\n",
    "\"--matrix=\"+matrix,\"--krylov=\"+solver,\"--npdes=\"+str(block_size),\"--rhs=\"+rhs]\n",
    "subprocess.run(args,stdout=logfile,stderr=logfile) \n",
    "logfile.close()"
   ]
  },
  {
   "cell_type": "markdown",
   "metadata": {},
   "source": [
    "# Print Hierachy"
   ]
  },
  {
   "cell_type": "code",
   "execution_count": 24,
   "metadata": {},
   "outputs": [
    {
     "name": "stdout",
     "output_type": "stream",
     "text": [
      "Iterations -1\n"
     ]
    }
   ],
   "source": [
    "logfile=open(output_folder+logname, \"r\")\n",
    "hierachy=[]\n",
    "rows=[]\n",
    "unknowns=[]\n",
    "iterations=-1\n",
    "for line in logfile.readlines():\n",
    "    m=regex.match(r\"Smoother \\(level \\d\\) : # global rows = \\d+\",line)\n",
    "    n=regex.search(r\"total iterations: \\d+\",line)\n",
    "    if m!=None:\n",
    "        tmp=regex.findall(r\"\\d+\",line)\n",
    "        hierachy.append(int(tmp[0]))\n",
    "        rows.append(int(tmp[1]))\n",
    "        unknowns.append(int(tmp[2]))\n",
    "    if n!=None:\n",
    "        tmp=regex.findall(r\"\\d+\",n.group(0))   \n",
    "        iterations=int(tmp[0])\n",
    "for hie,unk,row in zip(hierachy,unknowns,rows):\n",
    "    print(\"Level \",hie,\" Global rows \",row,\" Unknowns \", unk)\n",
    "print(\"Iterations\",iterations)"
   ]
  },
  {
   "cell_type": "markdown",
   "metadata": {},
   "source": [
    "# Produce rhs"
   ]
  },
  {
   "cell_type": "code",
   "execution_count": null,
   "metadata": {},
   "outputs": [],
   "source": [
    "# work_folder=\"/home/yiwei/results_new/test_refine_0.00/2d_bar_lowE/AMGCL/square_beam2d_structed/bar_2d/P1/ref0/block2/Thread32/0/output\"\n",
    "# stiffness=scipy.io.mmread(work_folder+\"/stiffness.mat\")\n",
    "# solution=numpy.loadtxt(work_folder+\"/solution.mat\")\n",
    "# rhs=(stiffness.tocsr()).dot(solution)\n",
    "# rhs=numpy.reshape(rhs,(rhs.shape[0],1))\n",
    "# scipy.io.mmwrite(work_folder+\"/rhs.mtx\",rhs)"
   ]
  }
 ],
 "metadata": {
  "kernelspec": {
   "display_name": "Python 3.9.12 ('base': conda)",
   "language": "python",
   "name": "python3"
  },
  "language_info": {
   "codemirror_mode": {
    "name": "ipython",
    "version": 3
   },
   "file_extension": ".py",
   "mimetype": "text/x-python",
   "name": "python",
   "nbconvert_exporter": "python",
   "pygments_lexer": "ipython3",
   "version": "3.9.12"
  },
  "orig_nbformat": 4,
  "vscode": {
   "interpreter": {
    "hash": "0333f6a60717544378c06df82b1950ca14c34f4350a548a9d6a543c9e4b8ad02"
   }
  }
 },
 "nbformat": 4,
 "nbformat_minor": 2
}
