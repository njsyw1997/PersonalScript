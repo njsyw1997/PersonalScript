{
 "cells": [
  {
   "cell_type": "code",
   "execution_count": 21,
   "metadata": {},
   "outputs": [],
   "source": [
    "import scipy\n",
    "import numpy\n",
    "import scipy.io\n",
    "import matplotlib.pyplot as plt\n",
    "import glob\n",
    "import json\n",
    "import math\n",
    "import os\n",
    "import subprocess\n",
    "import tempfile\n",
    "import numpy as np\n",
    "import regex"
   ]
  },
  {
   "cell_type": "code",
   "execution_count": 22,
   "metadata": {},
   "outputs": [],
   "source": [
    "def run_hypre(size_list,work_folder):\n",
    "    iterations=[]\n",
    "    for problem_size in size_list:\n",
    "        print(\"Running Problem of size\",problem_size)\n",
    "        hypre_exe=\"/home/yiwei/hypre/src/cmbuild/examples/ex5\"\n",
    "        output_folder=work_folder\n",
    "        logname='/log_hypre'+str(problem_size)+'.txt'\n",
    "        if (not os.path.exists(output_folder)):\n",
    "            os.makedirs(output_folder)\n",
    "        logfile = open(output_folder+logname, \"w\")\n",
    "        os.chdir(output_folder)\n",
    "        os.environ[\"OMP_THREAD_LIMIT\"]= \"32\"\n",
    "        args = [hypre_exe,\n",
    "        \"-n\",str(problem_size),\"-solver\",\"1\"]\n",
    "        subprocess.run(args,stdout=logfile,stderr=logfile) \n",
    "        logfile.close()\n",
    "        logfile = open(output_folder+logname, \"r\")\n",
    "        for line in logfile.readlines():\n",
    "            n=regex.search(r\"Iterations = \\d+\",line)\n",
    "            if n!=None:\n",
    "                tmp=regex.findall(r\"\\d+\",n.group(0))   \n",
    "                iterations.append(int(tmp[0]))\n",
    "    return size_list,iterations\n"
   ]
  },
  {
   "cell_type": "code",
   "execution_count": 27,
   "metadata": {},
   "outputs": [
    {
     "name": "stdout",
     "output_type": "stream",
     "text": [
      "Running Problem of size 20\n",
      "Running Problem of size 40\n",
      "Running Problem of size 60\n",
      "Running Problem of size 80\n",
      "Running Problem of size 100\n",
      "Running Problem of size 200\n",
      "Running Problem of size 400\n",
      "Running Problem of size 600\n",
      "Running Problem of size 800\n",
      "Running Problem of size 1000\n"
     ]
    }
   ],
   "source": [
    "size_list,iterations=run_hypre([20,40,60,80,100,200,400,600,800,1000],\"/home/yiwei/hypre_test/\")\n",
    "# size_list,iterations=run_hypre([20],\"/home/yiwei/hypre_tmptest/\")"
   ]
  },
  {
   "cell_type": "code",
   "execution_count": 28,
   "metadata": {},
   "outputs": [
    {
     "name": "stdout",
     "output_type": "stream",
     "text": [
      "[6, 7, 7, 7, 7, 7, 7, 7, 8, 8]\n"
     ]
    }
   ],
   "source": [
    "print(iterations)"
   ]
  }
 ],
 "metadata": {
  "kernelspec": {
   "display_name": "Python 3.9.12 ('base': conda)",
   "language": "python",
   "name": "python3"
  },
  "language_info": {
   "codemirror_mode": {
    "name": "ipython",
    "version": 3
   },
   "file_extension": ".py",
   "mimetype": "text/x-python",
   "name": "python",
   "nbconvert_exporter": "python",
   "pygments_lexer": "ipython3",
   "version": "3.9.12"
  },
  "orig_nbformat": 4,
  "vscode": {
   "interpreter": {
    "hash": "0333f6a60717544378c06df82b1950ca14c34f4350a548a9d6a543c9e4b8ad02"
   }
  }
 },
 "nbformat": 4,
 "nbformat_minor": 2
}
