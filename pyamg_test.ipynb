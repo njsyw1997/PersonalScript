{
 "cells": [
  {
   "cell_type": "code",
   "execution_count": 2,
   "metadata": {},
   "outputs": [],
   "source": [
    "import scipy\n",
    "import numpy\n",
    "import scipy.io\n",
    "import matplotlib.pyplot as plt\n",
    "import pyamg\n",
    "from scipy.sparse.linalg import cg"
   ]
  },
  {
   "cell_type": "code",
   "execution_count": 11,
   "metadata": {},
   "outputs": [],
   "source": [
    "A=scipy.io.mmread(\"/home/yiwei/results_new/test_refine_0.00/2d_bar_lowE/AMGCL/square_beam2d_structed/bar_2d/P1/ref0/block2/Thread32/0/output/stiffness.mat\")\n",
    "A_csr=A.tocsr()"
   ]
  },
  {
   "cell_type": "code",
   "execution_count": 4,
   "metadata": {},
   "outputs": [],
   "source": [
    "b = scipy.io.mmread(\"/home/yiwei/results_new/test_refine_0.00/2d_bar_lowE/AMGCL/square_beam2d_structed/bar_2d/P1/ref0/block2/Thread32/0/output/new_matrix/rhs.mtx\")"
   ]
  },
  {
   "cell_type": "code",
   "execution_count": 12,
   "metadata": {},
   "outputs": [
    {
     "name": "stdout",
     "output_type": "stream",
     "text": [
      "multilevel_solver\n",
      "Number of Levels:     3\n",
      "Operator Complexity:  1.053\n",
      "Grid Complexity:      1.083\n",
      "Coarse Solver:        'pinv2'\n",
      "  level   unknowns     nonzeros\n",
      "    0          132         1262 [94.96%]\n",
      "    1           10           66 [ 4.97%]\n",
      "    2            1            1 [ 0.08%]\n",
      "\n"
     ]
    }
   ],
   "source": [
    "ml = pyamg.smoothed_aggregation_solver(A_csr, max_levels=10, max_coarse=5, keep=True,symmetry='symmetric',strength=[('symmetric', {'theta':0.00})])\n",
    "print(ml)"
   ]
  },
  {
   "cell_type": "code",
   "execution_count": 6,
   "metadata": {},
   "outputs": [
    {
     "name": "stderr",
     "output_type": "stream",
     "text": [
      "/home/yiwei/anaconda3/lib/python3.9/site-packages/pyamg/aggregation/adaptive.py:250: RuntimeWarning: divide by zero encountered in double_scalars\n",
      "  B = (1.0/norm(B, 'inf')) * B\n",
      "/home/yiwei/anaconda3/lib/python3.9/site-packages/pyamg/aggregation/adaptive.py:250: RuntimeWarning: invalid value encountered in multiply\n",
      "  B = (1.0/norm(B, 'inf')) * B\n"
     ]
    },
    {
     "ename": "ValueError",
     "evalue": "array must not contain infs or NaNs",
     "output_type": "error",
     "traceback": [
      "\u001b[0;31m---------------------------------------------------------------------------\u001b[0m",
      "\u001b[0;31mValueError\u001b[0m                                Traceback (most recent call last)",
      "\u001b[1;32m/home/yiwei/PersonalScript/pyamg_test.ipynb Cell 5\u001b[0m in \u001b[0;36m<cell line: 1>\u001b[0;34m()\u001b[0m\n\u001b[0;32m----> <a href='vscode-notebook-cell://ssh-remote%2Bsonic.cs.nyu.edu/home/yiwei/PersonalScript/pyamg_test.ipynb#W4sdnNjb2RlLXJlbW90ZQ%3D%3D?line=0'>1</a>\u001b[0m ml_ad \u001b[39m=\u001b[39m pyamg\u001b[39m.\u001b[39;49maggregation\u001b[39m.\u001b[39;49madaptive_sa_solver(A_csr,pdef\u001b[39m=\u001b[39;49m\u001b[39mTrue\u001b[39;49;00m,num_candidates\u001b[39m=\u001b[39;49m\u001b[39m6\u001b[39;49m, max_levels\u001b[39m=\u001b[39;49m\u001b[39m10\u001b[39;49m, max_coarse\u001b[39m=\u001b[39;49m\u001b[39m500\u001b[39;49m, keep\u001b[39m=\u001b[39;49m\u001b[39mTrue\u001b[39;49;00m,symmetry\u001b[39m=\u001b[39;49m\u001b[39m'\u001b[39;49m\u001b[39msymmetric\u001b[39;49m\u001b[39m'\u001b[39;49m,strength\u001b[39m=\u001b[39;49m[(\u001b[39m'\u001b[39;49m\u001b[39msymmetric\u001b[39;49m\u001b[39m'\u001b[39;49m, {\u001b[39m'\u001b[39;49m\u001b[39mtheta\u001b[39;49m\u001b[39m'\u001b[39;49m:\u001b[39m0.08\u001b[39;49m})])\n\u001b[1;32m      <a href='vscode-notebook-cell://ssh-remote%2Bsonic.cs.nyu.edu/home/yiwei/PersonalScript/pyamg_test.ipynb#W4sdnNjb2RlLXJlbW90ZQ%3D%3D?line=1'>2</a>\u001b[0m \u001b[39mprint\u001b[39m(ml_ad)\n",
      "File \u001b[0;32m~/anaconda3/lib/python3.9/site-packages/pyamg/aggregation/adaptive.py:277\u001b[0m, in \u001b[0;36madaptive_sa_solver\u001b[0;34m(A, initial_candidates, symmetry, pdef, num_candidates, candidate_iters, improvement_iters, epsilon, max_levels, max_coarse, aggregate, prepostsmoother, smooth, strength, coarse_solver, eliminate_local, keep, **kwargs)\u001b[0m\n\u001b[1;32m    274\u001b[0m \u001b[39m# Develop additional candidates\u001b[39;00m\n\u001b[1;32m    275\u001b[0m \u001b[39mfor\u001b[39;00m i \u001b[39min\u001b[39;00m \u001b[39mrange\u001b[39m(num_candidates):\n\u001b[1;32m    276\u001b[0m     x \u001b[39m=\u001b[39m general_setup_stage(\n\u001b[0;32m--> 277\u001b[0m         smoothed_aggregation_solver(A, B\u001b[39m=\u001b[39;49mB, symmetry\u001b[39m=\u001b[39;49msymmetry,\n\u001b[1;32m    278\u001b[0m                                     presmoother\u001b[39m=\u001b[39;49mprepostsmoother,\n\u001b[1;32m    279\u001b[0m                                     postsmoother\u001b[39m=\u001b[39;49mprepostsmoother,\n\u001b[1;32m    280\u001b[0m                                     smooth\u001b[39m=\u001b[39;49msmooth,\n\u001b[1;32m    281\u001b[0m                                     coarse_solver\u001b[39m=\u001b[39;49mcoarse_solver,\n\u001b[1;32m    282\u001b[0m                                     aggregate\u001b[39m=\u001b[39;49maggregate,\n\u001b[1;32m    283\u001b[0m                                     strength\u001b[39m=\u001b[39;49mstrength,\n\u001b[1;32m    284\u001b[0m                                     improve_candidates\u001b[39m=\u001b[39;49m\u001b[39mNone\u001b[39;49;00m,\n\u001b[1;32m    285\u001b[0m                                     keep\u001b[39m=\u001b[39;49m\u001b[39mTrue\u001b[39;49;00m, \u001b[39m*\u001b[39;49m\u001b[39m*\u001b[39;49mkwargs),\n\u001b[1;32m    286\u001b[0m         symmetry, candidate_iters, prepostsmoother, smooth,\n\u001b[1;32m    287\u001b[0m         eliminate_local, coarse_solver, work)\n\u001b[1;32m    289\u001b[0m     \u001b[39m# Normalize x and add to candidate list\u001b[39;00m\n\u001b[1;32m    290\u001b[0m     x \u001b[39m=\u001b[39m x\u001b[39m/\u001b[39mnorm(x, \u001b[39m'\u001b[39m\u001b[39minf\u001b[39m\u001b[39m'\u001b[39m)\n",
      "File \u001b[0;32m~/anaconda3/lib/python3.9/site-packages/pyamg/aggregation/aggregation.py:279\u001b[0m, in \u001b[0;36msmoothed_aggregation_solver\u001b[0;34m(A, B, BH, symmetry, strength, aggregate, smooth, presmoother, postsmoother, improve_candidates, max_levels, max_coarse, diagonal_dominance, keep, **kwargs)\u001b[0m\n\u001b[1;32m    275\u001b[0m     levels[\u001b[39m-\u001b[39m\u001b[39m1\u001b[39m]\u001b[39m.\u001b[39mBH \u001b[39m=\u001b[39m BH    \u001b[39m# left candidates\u001b[39;00m\n\u001b[1;32m    277\u001b[0m \u001b[39mwhile\u001b[39;00m \u001b[39mlen\u001b[39m(levels) \u001b[39m<\u001b[39m max_levels \u001b[39mand\u001b[39;00m\\\n\u001b[1;32m    278\u001b[0m         \u001b[39mint\u001b[39m(levels[\u001b[39m-\u001b[39m\u001b[39m1\u001b[39m]\u001b[39m.\u001b[39mA\u001b[39m.\u001b[39mshape[\u001b[39m0\u001b[39m]\u001b[39m/\u001b[39mblocksize(levels[\u001b[39m-\u001b[39m\u001b[39m1\u001b[39m]\u001b[39m.\u001b[39mA)) \u001b[39m>\u001b[39m max_coarse:\n\u001b[0;32m--> 279\u001b[0m     extend_hierarchy(levels, strength, aggregate, smooth,\n\u001b[1;32m    280\u001b[0m                      improve_candidates, diagonal_dominance, keep)\n\u001b[1;32m    282\u001b[0m ml \u001b[39m=\u001b[39m multilevel_solver(levels, \u001b[39m*\u001b[39m\u001b[39m*\u001b[39mkwargs)\n\u001b[1;32m    283\u001b[0m change_smoothers(ml, presmoother, postsmoother)\n",
      "File \u001b[0;32m~/anaconda3/lib/python3.9/site-packages/pyamg/aggregation/aggregation.py:377\u001b[0m, in \u001b[0;36mextend_hierarchy\u001b[0;34m(levels, strength, aggregate, smooth, improve_candidates, diagonal_dominance, keep)\u001b[0m\n\u001b[1;32m    375\u001b[0m fn, kwargs \u001b[39m=\u001b[39m unpack_arg(smooth[\u001b[39mlen\u001b[39m(levels)\u001b[39m-\u001b[39m\u001b[39m1\u001b[39m])\n\u001b[1;32m    376\u001b[0m \u001b[39mif\u001b[39;00m fn \u001b[39m==\u001b[39m \u001b[39m'\u001b[39m\u001b[39mjacobi\u001b[39m\u001b[39m'\u001b[39m:\n\u001b[0;32m--> 377\u001b[0m     P \u001b[39m=\u001b[39m jacobi_prolongation_smoother(A, T, C, B, \u001b[39m*\u001b[39;49m\u001b[39m*\u001b[39;49mkwargs)\n\u001b[1;32m    378\u001b[0m \u001b[39melif\u001b[39;00m fn \u001b[39m==\u001b[39m \u001b[39m'\u001b[39m\u001b[39mrichardson\u001b[39m\u001b[39m'\u001b[39m:\n\u001b[1;32m    379\u001b[0m     P \u001b[39m=\u001b[39m richardson_prolongation_smoother(A, T, \u001b[39m*\u001b[39m\u001b[39m*\u001b[39mkwargs)\n",
      "File \u001b[0;32m~/anaconda3/lib/python3.9/site-packages/pyamg/aggregation/smooth.py:159\u001b[0m, in \u001b[0;36mjacobi_prolongation_smoother\u001b[0;34m(S, T, C, B, omega, degree, filter, weighting)\u001b[0m\n\u001b[1;32m    157\u001b[0m     D_inv \u001b[39m=\u001b[39m get_diagonal(S, inv\u001b[39m=\u001b[39m\u001b[39mTrue\u001b[39;00m)\n\u001b[1;32m    158\u001b[0m     D_inv_S \u001b[39m=\u001b[39m scale_rows(S, D_inv, copy\u001b[39m=\u001b[39m\u001b[39mTrue\u001b[39;00m)\n\u001b[0;32m--> 159\u001b[0m     D_inv_S \u001b[39m=\u001b[39m (omega\u001b[39m/\u001b[39mapproximate_spectral_radius(D_inv_S))\u001b[39m*\u001b[39mD_inv_S\n\u001b[1;32m    160\u001b[0m \u001b[39melif\u001b[39;00m weighting \u001b[39m==\u001b[39m \u001b[39m'\u001b[39m\u001b[39mblock\u001b[39m\u001b[39m'\u001b[39m:\n\u001b[1;32m    161\u001b[0m     \u001b[39m# Use block diagonal of S\u001b[39;00m\n\u001b[1;32m    162\u001b[0m     D_inv \u001b[39m=\u001b[39m get_block_diag(S, blocksize\u001b[39m=\u001b[39mS\u001b[39m.\u001b[39mblocksize[\u001b[39m0\u001b[39m], inv_flag\u001b[39m=\u001b[39m\u001b[39mTrue\u001b[39;00m)\n",
      "File \u001b[0;32m~/anaconda3/lib/python3.9/site-packages/pyamg/util/linalg.py:372\u001b[0m, in \u001b[0;36mapproximate_spectral_radius\u001b[0;34m(A, tol, maxiter, restart, symmetric, initial_guess, return_vector)\u001b[0m\n\u001b[1;32m    368\u001b[0m     v0 \u001b[39m=\u001b[39m np\u001b[39m.\u001b[39marray(v0, dtype\u001b[39m=\u001b[39mA\u001b[39m.\u001b[39mdtype)\n\u001b[1;32m    370\u001b[0m \u001b[39mfor\u001b[39;00m j \u001b[39min\u001b[39;00m \u001b[39mrange\u001b[39m(restart\u001b[39m+\u001b[39m\u001b[39m1\u001b[39m):\n\u001b[1;32m    371\u001b[0m     [evect, ev, H, V, breakdown_flag] \u001b[39m=\u001b[39m\\\n\u001b[0;32m--> 372\u001b[0m         _approximate_eigenvalues(A, tol, maxiter,\n\u001b[1;32m    373\u001b[0m                                  symmetric, initial_guess\u001b[39m=\u001b[39;49mv0)\n\u001b[1;32m    374\u001b[0m     \u001b[39m# Calculate error in dominant eigenvector\u001b[39;00m\n\u001b[1;32m    375\u001b[0m     nvecs \u001b[39m=\u001b[39m ev\u001b[39m.\u001b[39mshape[\u001b[39m0\u001b[39m]\n",
      "File \u001b[0;32m~/anaconda3/lib/python3.9/site-packages/pyamg/util/linalg.py:273\u001b[0m, in \u001b[0;36m_approximate_eigenvalues\u001b[0;34m(A, tol, maxiter, symmetric, initial_guess)\u001b[0m\n\u001b[1;32m    258\u001b[0m         \u001b[39m# if upper 2x2 block of Hessenberg matrix H is almost symmetric,\u001b[39;00m\n\u001b[1;32m    259\u001b[0m         \u001b[39m# and the user has not explicitly specified symmetric=False,\u001b[39;00m\n\u001b[1;32m    260\u001b[0m         \u001b[39m# then switch to symmetric Lanczos algorithm\u001b[39;00m\n\u001b[0;32m   (...)\u001b[0m\n\u001b[1;32m    268\u001b[0m \n\u001b[1;32m    269\u001b[0m \u001b[39m# print \"Approximated spectral radius in %d iterations\" % (j + 1)\u001b[39;00m\n\u001b[1;32m    271\u001b[0m \u001b[39mfrom\u001b[39;00m \u001b[39mscipy\u001b[39;00m\u001b[39m.\u001b[39;00m\u001b[39mlinalg\u001b[39;00m \u001b[39mimport\u001b[39;00m eig\n\u001b[0;32m--> 273\u001b[0m Eigs, Vects \u001b[39m=\u001b[39m eig(H[:j\u001b[39m+\u001b[39;49m\u001b[39m1\u001b[39;49m, :j\u001b[39m+\u001b[39;49m\u001b[39m1\u001b[39;49m], left\u001b[39m=\u001b[39;49m\u001b[39mFalse\u001b[39;49;00m, right\u001b[39m=\u001b[39;49m\u001b[39mTrue\u001b[39;49;00m)\n\u001b[1;32m    275\u001b[0m \u001b[39mreturn\u001b[39;00m (Vects, Eigs, H, V, breakdown_flag)\n",
      "File \u001b[0;32m~/anaconda3/lib/python3.9/site-packages/scipy/linalg/decomp.py:211\u001b[0m, in \u001b[0;36meig\u001b[0;34m(a, b, left, right, overwrite_a, overwrite_b, check_finite, homogeneous_eigvals)\u001b[0m\n\u001b[1;32m    115\u001b[0m \u001b[39mdef\u001b[39;00m \u001b[39meig\u001b[39m(a, b\u001b[39m=\u001b[39m\u001b[39mNone\u001b[39;00m, left\u001b[39m=\u001b[39m\u001b[39mFalse\u001b[39;00m, right\u001b[39m=\u001b[39m\u001b[39mTrue\u001b[39;00m, overwrite_a\u001b[39m=\u001b[39m\u001b[39mFalse\u001b[39;00m,\n\u001b[1;32m    116\u001b[0m         overwrite_b\u001b[39m=\u001b[39m\u001b[39mFalse\u001b[39;00m, check_finite\u001b[39m=\u001b[39m\u001b[39mTrue\u001b[39;00m, homogeneous_eigvals\u001b[39m=\u001b[39m\u001b[39mFalse\u001b[39;00m):\n\u001b[1;32m    117\u001b[0m     \u001b[39m\"\"\"\u001b[39;00m\n\u001b[1;32m    118\u001b[0m \u001b[39m    Solve an ordinary or generalized eigenvalue problem of a square matrix.\u001b[39;00m\n\u001b[1;32m    119\u001b[0m \n\u001b[0;32m   (...)\u001b[0m\n\u001b[1;32m    209\u001b[0m \n\u001b[1;32m    210\u001b[0m \u001b[39m    \"\"\"\u001b[39;00m\n\u001b[0;32m--> 211\u001b[0m     a1 \u001b[39m=\u001b[39m _asarray_validated(a, check_finite\u001b[39m=\u001b[39;49mcheck_finite)\n\u001b[1;32m    212\u001b[0m     \u001b[39mif\u001b[39;00m \u001b[39mlen\u001b[39m(a1\u001b[39m.\u001b[39mshape) \u001b[39m!=\u001b[39m \u001b[39m2\u001b[39m \u001b[39mor\u001b[39;00m a1\u001b[39m.\u001b[39mshape[\u001b[39m0\u001b[39m] \u001b[39m!=\u001b[39m a1\u001b[39m.\u001b[39mshape[\u001b[39m1\u001b[39m]:\n\u001b[1;32m    213\u001b[0m         \u001b[39mraise\u001b[39;00m \u001b[39mValueError\u001b[39;00m(\u001b[39m'\u001b[39m\u001b[39mexpected square matrix\u001b[39m\u001b[39m'\u001b[39m)\n",
      "File \u001b[0;32m~/anaconda3/lib/python3.9/site-packages/scipy/_lib/_util.py:293\u001b[0m, in \u001b[0;36m_asarray_validated\u001b[0;34m(a, check_finite, sparse_ok, objects_ok, mask_ok, as_inexact)\u001b[0m\n\u001b[1;32m    291\u001b[0m         \u001b[39mraise\u001b[39;00m \u001b[39mValueError\u001b[39;00m(\u001b[39m'\u001b[39m\u001b[39mmasked arrays are not supported\u001b[39m\u001b[39m'\u001b[39m)\n\u001b[1;32m    292\u001b[0m toarray \u001b[39m=\u001b[39m np\u001b[39m.\u001b[39masarray_chkfinite \u001b[39mif\u001b[39;00m check_finite \u001b[39melse\u001b[39;00m np\u001b[39m.\u001b[39masarray\n\u001b[0;32m--> 293\u001b[0m a \u001b[39m=\u001b[39m toarray(a)\n\u001b[1;32m    294\u001b[0m \u001b[39mif\u001b[39;00m \u001b[39mnot\u001b[39;00m objects_ok:\n\u001b[1;32m    295\u001b[0m     \u001b[39mif\u001b[39;00m a\u001b[39m.\u001b[39mdtype \u001b[39mis\u001b[39;00m np\u001b[39m.\u001b[39mdtype(\u001b[39m'\u001b[39m\u001b[39mO\u001b[39m\u001b[39m'\u001b[39m):\n",
      "File \u001b[0;32m~/anaconda3/lib/python3.9/site-packages/numpy/lib/function_base.py:488\u001b[0m, in \u001b[0;36masarray_chkfinite\u001b[0;34m(a, dtype, order)\u001b[0m\n\u001b[1;32m    486\u001b[0m a \u001b[39m=\u001b[39m asarray(a, dtype\u001b[39m=\u001b[39mdtype, order\u001b[39m=\u001b[39morder)\n\u001b[1;32m    487\u001b[0m \u001b[39mif\u001b[39;00m a\u001b[39m.\u001b[39mdtype\u001b[39m.\u001b[39mchar \u001b[39min\u001b[39;00m typecodes[\u001b[39m'\u001b[39m\u001b[39mAllFloat\u001b[39m\u001b[39m'\u001b[39m] \u001b[39mand\u001b[39;00m \u001b[39mnot\u001b[39;00m np\u001b[39m.\u001b[39misfinite(a)\u001b[39m.\u001b[39mall():\n\u001b[0;32m--> 488\u001b[0m     \u001b[39mraise\u001b[39;00m \u001b[39mValueError\u001b[39;00m(\n\u001b[1;32m    489\u001b[0m         \u001b[39m\"\u001b[39m\u001b[39marray must not contain infs or NaNs\u001b[39m\u001b[39m\"\u001b[39m)\n\u001b[1;32m    490\u001b[0m \u001b[39mreturn\u001b[39;00m a\n",
      "\u001b[0;31mValueError\u001b[0m: array must not contain infs or NaNs"
     ]
    }
   ],
   "source": [
    "# ml_ad = pyamg.aggregation.adaptive_sa_solver(A_csr,pdef=True,num_candidates=6, max_levels=10, max_coarse=500, keep=True,symmetry='symmetric',strength=[('symmetric', {'theta':0.08})])\n",
    "# print(ml_ad)"
   ]
  },
  {
   "cell_type": "code",
   "execution_count": 7,
   "metadata": {},
   "outputs": [],
   "source": [
    "def solve_sparse(A, b,M):\n",
    "    num_iters = 0\n",
    "\n",
    "    def callback(xk):\n",
    "        nonlocal num_iters\n",
    "        num_iters+=1\n",
    "\n",
    "    x,status=scipy.sparse.linalg.cg(A, b,tol=1e-8, callback=callback,M=M)\n",
    "    return x,status,num_iters"
   ]
  },
  {
   "cell_type": "code",
   "execution_count": 8,
   "metadata": {},
   "outputs": [],
   "source": [
    "M = ml.aspreconditioner(cycle='V')  \n",
    "M_ad = ml.aspreconditioner(cycle='V') # preconditioner\n",
    "x, info,iter = solve_sparse(A, b, M=M)\n",
    "x_ad, info_ad,iter_ad = solve_sparse(A, b, M=M_ad)"
   ]
  }
 ],
 "metadata": {
  "kernelspec": {
   "display_name": "Python 3.9.12 ('base': conda)",
   "language": "python",
   "name": "python3"
  },
  "language_info": {
   "codemirror_mode": {
    "name": "ipython",
    "version": 3
   },
   "file_extension": ".py",
   "mimetype": "text/x-python",
   "name": "python",
   "nbconvert_exporter": "python",
   "pygments_lexer": "ipython3",
   "version": "3.9.12"
  },
  "orig_nbformat": 4,
  "vscode": {
   "interpreter": {
    "hash": "0333f6a60717544378c06df82b1950ca14c34f4350a548a9d6a543c9e4b8ad02"
   }
  }
 },
 "nbformat": 4,
 "nbformat_minor": 2
}
