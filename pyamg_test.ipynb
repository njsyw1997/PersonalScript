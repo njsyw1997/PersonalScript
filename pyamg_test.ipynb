{
 "cells": [
  {
   "cell_type": "code",
   "execution_count": 1,
   "metadata": {},
   "outputs": [],
   "source": [
    "import scipy\n",
    "import numpy\n",
    "import scipy.io\n",
    "import matplotlib.pyplot as plt\n",
    "import pyamg\n",
    "from scipy.sparse.linalg import cg"
   ]
  },
  {
   "cell_type": "code",
   "execution_count": 2,
   "metadata": {},
   "outputs": [],
   "source": [
    "A=scipy.io.mmread(\"/home/yiwei/result_mass_solver/AMGCL_0.08/square_beam_structed_40/bar_sa/P1/ref0/block1/Thread32/0/output/stiffness.mtx\")\n",
    "A_csr=A.tocsr()"
   ]
  },
  {
   "cell_type": "code",
   "execution_count": 3,
   "metadata": {},
   "outputs": [],
   "source": [
    "b = scipy.io.mmread(\"/home/yiwei/result_mass_solver/AMGCL_0.08/square_beam_structed_40/bar_sa/P1/ref0/block1/Thread32/0/output/rhs.mtx\")"
   ]
  },
  {
   "cell_type": "code",
   "execution_count": 4,
   "metadata": {},
   "outputs": [
    {
     "name": "stdout",
     "output_type": "stream",
     "text": [
      "multilevel_solver\n",
      "Number of Levels:     4\n",
      "Operator Complexity:  1.017\n",
      "Grid Complexity:      1.018\n",
      "Coarse Solver:        'pinv2'\n",
      "  level   unknowns     nonzeros\n",
      "    0       408483     17571267 [98.31%]\n",
      "    1         7326       297204 [ 1.66%]\n",
      "    2          124         4454 [ 0.02%]\n",
      "    3            2            4 [ 0.00%]\n",
      "\n"
     ]
    }
   ],
   "source": [
    "ml = pyamg.smoothed_aggregation_solver(A_csr, max_levels=10, max_coarse=5, keep=True,symmetry='symmetric',strength=[('symmetric', {'theta':0.00})])\n",
    "print(ml)"
   ]
  },
  {
   "cell_type": "code",
   "execution_count": 5,
   "metadata": {},
   "outputs": [
    {
     "name": "stdout",
     "output_type": "stream",
     "text": [
      "[multilevel_solver\n",
      "Number of Levels:     3\n",
      "Operator Complexity: 11.316\n",
      "Grid Complexity:      1.618\n",
      "Coarse Solver:        'pinv2'\n",
      "  level   unknowns     nonzeros\n",
      "    0       408483     17571267 [ 8.84%]\n",
      "    1       252168    181263312 [91.16%]\n",
      "    2          150         6588 [ 0.00%]\n",
      ", 796.2812875133022]\n"
     ]
    }
   ],
   "source": [
    "ml_ad = pyamg.aggregation.adaptive_sa_solver(A_csr,pdef=True,num_candidates=6, max_levels=10, max_coarse=500, keep=True,symmetry='symmetric',strength=[('symmetric', {'theta':0.08})])\n",
    "print(ml_ad)"
   ]
  },
  {
   "cell_type": "code",
   "execution_count": 6,
   "metadata": {},
   "outputs": [],
   "source": [
    "def solve_sparse(A, b,M):\n",
    "    num_iters = 0\n",
    "\n",
    "    def callback(xk):\n",
    "        nonlocal num_iters\n",
    "        num_iters+=1\n",
    "\n",
    "    x,status=scipy.sparse.linalg.cg(A, b,tol=1e-8, callback=callback,M=M)\n",
    "    return x,status,num_iters"
   ]
  },
  {
   "cell_type": "code",
   "execution_count": 7,
   "metadata": {},
   "outputs": [],
   "source": [
    "M = ml.aspreconditioner(cycle='V')  \n",
    "M_ad = ml.aspreconditioner(cycle='V') # preconditioner\n",
    "x, info,iter = solve_sparse(A, b, M=M)\n",
    "x_ad, info_ad,iter_ad = solve_sparse(A, b, M=M_ad)"
   ]
  }
 ],
 "metadata": {
  "kernelspec": {
   "display_name": "Python 3.9.12 ('base': conda)",
   "language": "python",
   "name": "python3"
  },
  "language_info": {
   "codemirror_mode": {
    "name": "ipython",
    "version": 3
   },
   "file_extension": ".py",
   "mimetype": "text/x-python",
   "name": "python",
   "nbconvert_exporter": "python",
   "pygments_lexer": "ipython3",
   "version": "3.9.12"
  },
  "orig_nbformat": 4,
  "vscode": {
   "interpreter": {
    "hash": "0333f6a60717544378c06df82b1950ca14c34f4350a548a9d6a543c9e4b8ad02"
   }
  }
 },
 "nbformat": 4,
 "nbformat_minor": 2
}
