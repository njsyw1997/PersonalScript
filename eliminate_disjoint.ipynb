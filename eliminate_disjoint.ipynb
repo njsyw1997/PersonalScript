{
 "cells": [
  {
   "cell_type": "code",
   "execution_count": 2,
   "metadata": {},
   "outputs": [],
   "source": [
    "import scipy\n",
    "import scipy.io\n",
    "import matplotlib.pyplot as plt\n",
    "import glob\n",
    "import json\n",
    "import math\n",
    "import os\n",
    "import subprocess\n",
    "import tempfile\n",
    "import numpy as np\n",
    "import regex\n",
    "from scipy.sparse import csr_matrix"
   ]
  },
  {
   "cell_type": "markdown",
   "metadata": {},
   "source": [
    "# Produce rhs"
   ]
  },
  {
   "cell_type": "code",
   "execution_count": 6,
   "metadata": {},
   "outputs": [],
   "source": [
    "work_folder=\"/home/yiwei/results_new/test_refine_0.00/2d_bar/AMGCL/square_beam2d_structed/bar_2d/P1/ref0/block2/Thread32/0/output\"\n",
    "stiffness=scipy.io.mmread(work_folder+\"/stiffness.mat\")\n",
    "solution=np.loadtxt(work_folder+\"/solution.mat\")\n",
    "rhs=(stiffness.tocsr()).dot(solution)\n",
    "rhs=np.reshape(rhs,(rhs.shape[0],1))\n",
    "scipy.io.mmwrite(work_folder+\"/rhs.mtx\",rhs)"
   ]
  },
  {
   "cell_type": "markdown",
   "metadata": {},
   "source": [
    "# Produce new matrix and new rhs"
   ]
  },
  {
   "cell_type": "code",
   "execution_count": 7,
   "metadata": {},
   "outputs": [],
   "source": [
    "stiff_triu=scipy.sparse.triu(stiffness,k=0,format=\"csr\")\n",
    "disjoint_id=[]\n",
    "disjoint_value=[]\n",
    "disjoint_ptr=[]\n",
    "mask_val = np.ones_like(stiff_triu.data,dtype=np.bool8)\n",
    "for i in range(len(stiff_triu.indptr)-1):    \n",
    "    if stiff_triu.data[stiff_triu.indptr[i]]==1.0:\n",
    "        disjoint_id.append(i)\n",
    "        disjoint_value.append(stiff_triu.data[stiff_triu.indptr[i]])\n",
    "        mask_val[stiff_triu.indptr[i]]=False\n",
    "        disjoint_ptr.append(stiff_triu.indptr[i])\n",
    "# disjoint_ptr.append(len(stiff_triu.indices))\n",
    "mask_ptr = np.array([(i-1 in disjoint_id) for i in range(len(stiff_triu.indptr))])\n",
    "tmp_indptr=stiff_triu.indptr.copy()\n",
    "tmp_indices=stiff_triu.indices.copy()\n",
    "for i in range(len(disjoint_ptr)):\n",
    "    tmp_indptr[disjoint_id[i]+1:]=tmp_indptr[disjoint_id[i]+1:]-1\n",
    "for i in range(len(tmp_indices)):\n",
    "    indice=tmp_indices[i]\n",
    "    k=0\n",
    "    for id in disjoint_id:\n",
    "        if indice>id:\n",
    "            k=k+1\n",
    "    tmp_indices[i]=tmp_indices[i]-k\n",
    "new_triu=csr_matrix((stiff_triu.data[mask_val], tmp_indices[mask_val], tmp_indptr[~mask_ptr]),(120,120))\n",
    "new_stiff=new_triu+new_triu.transpose()-scipy.sparse.diags(new_triu.diagonal())\n",
    "new_rhs=rhs[~(np.array([(i in disjoint_id) for i in range(len(rhs))]))]\n",
    "new_folder=work_folder+\"/new_matrix\"\n",
    "if (not os.path.exists(new_folder)):\n",
    "    os.makedirs(new_folder)\n",
    "scipy.io.mmwrite(new_folder+\"/rhs.mtx\",new_rhs)\n",
    "scipy.io.mmwrite(new_folder+\"/stiffness.mat\",new_stiff,symmetry=\"general\")"
   ]
  },
  {
   "cell_type": "markdown",
   "metadata": {},
   "source": [
    "# Run ML"
   ]
  },
  {
   "cell_type": "code",
   "execution_count": 12,
   "metadata": {},
   "outputs": [],
   "source": [
    "work_folder=\"/home/yiwei/results_new/test_refine_0.00/2d_bar/AMGCL/square_beam2d_structed/bar_2d/P1/ref0/block2/Thread32/0/output/new_matrix\"\n",
    "ml_exe=\"/home/yiwei/Trilinos/build/packages/ml/examples/BasicExamples/ML_read_MatrixMarket.exe\"\n",
    "matrix=work_folder+\"/stiffness.mat\"\n",
    "rhs=work_folder+\"/rhs.mtx\"\n",
    "block_size=2\n",
    "solver=\"cg\"\n",
    "output_folder=work_folder\n",
    "logname='/log_ml_'+str(block_size)+'.txt'\n",
    "if (not os.path.exists(output_folder)):\n",
    "    os.makedirs(output_folder)\n",
    "logfile = open(output_folder+logname, \"w\")\n",
    "os.chdir(output_folder)\n",
    "args = [ml_exe,\n",
    "\"--matrix=\"+matrix,\"--krylov=\"+solver,\"--npdes=\"+str(block_size),\"--rhs=\"+rhs]\n",
    "subprocess.run(args,stdout=logfile,stderr=logfile) \n",
    "logfile.close()"
   ]
  },
  {
   "cell_type": "markdown",
   "metadata": {},
   "source": [
    "# Print Hierachy"
   ]
  },
  {
   "cell_type": "code",
   "execution_count": 13,
   "metadata": {},
   "outputs": [
    {
     "name": "stdout",
     "output_type": "stream",
     "text": [
      "Level  0  Global rows  120  Unknowns  1250\n",
      "Level  1  Global rows  16  Unknowns  180\n",
      "Iterations 76\n"
     ]
    }
   ],
   "source": [
    "logfile=open(output_folder+logname, \"r\")\n",
    "hierachy=[]\n",
    "rows=[]\n",
    "unknowns=[]\n",
    "iterations=-1\n",
    "for line in logfile.readlines():\n",
    "    m=regex.match(r\"Smoother \\(level \\d\\) : # global rows = \\d+\",line)\n",
    "    n=regex.search(r\"total iterations: \\d+\",line)\n",
    "    if m!=None:\n",
    "        tmp=regex.findall(r\"\\d+\",line)\n",
    "        hierachy.append(int(tmp[0]))\n",
    "        rows.append(int(tmp[1]))\n",
    "        unknowns.append(int(tmp[2]))\n",
    "    if n!=None:\n",
    "        tmp=regex.findall(r\"\\d+\",n.group(0))   \n",
    "        iterations=int(tmp[0])\n",
    "for hie,unk,row in zip(hierachy,unknowns,rows):\n",
    "    print(\"Level \",hie,\" Global rows \",row,\" Unknowns \", unk)\n",
    "print(\"Iterations\",iterations)"
   ]
  }
 ],
 "metadata": {
  "kernelspec": {
   "display_name": "Python 3.9.12 ('base': conda)",
   "language": "python",
   "name": "python3"
  },
  "language_info": {
   "codemirror_mode": {
    "name": "ipython",
    "version": 3
   },
   "file_extension": ".py",
   "mimetype": "text/x-python",
   "name": "python",
   "nbconvert_exporter": "python",
   "pygments_lexer": "ipython3",
   "version": "3.9.12"
  },
  "orig_nbformat": 4,
  "vscode": {
   "interpreter": {
    "hash": "0333f6a60717544378c06df82b1950ca14c34f4350a548a9d6a543c9e4b8ad02"
   }
  }
 },
 "nbformat": 4,
 "nbformat_minor": 2
}
